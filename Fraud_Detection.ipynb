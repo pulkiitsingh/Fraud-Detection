{
  "nbformat": 4,
  "nbformat_minor": 0,
  "metadata": {
    "colab": {
      "provenance": [],
      "collapsed_sections": []
    },
    "kernelspec": {
      "name": "python3",
      "display_name": "Python 3"
    }
  },
  "cells": [
    {
      "cell_type": "code",
      "source": [
        "import pandas as pd\n",
        "from sklearn.preprocessing import label_binarize\n",
        "import numpy as np\n",
        "from sklearn.model_selection import train_test_split\n",
        "from sklearn.ensemble import RandomForestClassifier\n",
        "from sklearn.tree import DecisionTreeClassifier\n",
        "from sklearn.model_selection import GridSearchCV\n",
        "from sklearn.model_selection import RandomizedSearchCV\n",
        "from sklearn.model_selection import cross_val_score\n",
        "from sklearn.metrics import classification_report, confusion_matrix\n",
        "from sklearn.ensemble import GradientBoostingClassifier\n",
        "from sklearn.preprocessing import OneHotEncoder\n",
        "from sklearn import metrics #Import scikit-learn metrics module for accuracy calculation\n",
        "\n",
        "import warnings\n",
        "warnings.filterwarnings(\"ignore\")\n",
        "#Please ignore the warnings with version change\n",
        "\n",
        "from google.colab import drive\n",
        "drive.mount('/gdrive')\n",
        "#Change current working directory to gdrive\n",
        "%cd /gdrive\n"
      ],
      "metadata": {
        "colab": {
          "base_uri": "https://localhost:8080/"
        },
        "id": "fmz63lxqmaKK",
        "outputId": "40b59e02-fa21-4eac-f81b-9e2e0292ba66"
      },
      "execution_count": null,
      "outputs": [
        {
          "output_type": "stream",
          "name": "stdout",
          "text": [
            "Mounted at /gdrive\n",
            "/gdrive\n"
          ]
        }
      ]
    },
    {
      "cell_type": "code",
      "metadata": {
        "id": "BMwGQK7KAd7T",
        "colab": {
          "base_uri": "https://localhost:8080/"
        },
        "outputId": "edd05ada-382c-42c5-f70c-ac3276483bba"
      },
      "source": [
        "trainfile = r'/gdrive/My Drive/ASSIGNMENT2/fd_train.csv'\n",
        "trainData = pd.read_csv(trainfile) #creates a dataframe\n",
        "testfile = r'/gdrive/My Drive/ASSIGNMENT2/fd_test.csv'\n",
        "testData = pd.read_csv(testfile)  #creates a dataframe\n",
        "\n",
        "\n",
        "print(trainData.shape)\n",
        "print(testData.shape)\n",
        "\n"
      ],
      "execution_count": null,
      "outputs": [
        {
          "output_type": "stream",
          "name": "stdout",
          "text": [
            "(2999, 32)\n",
            "(12918, 32)\n"
          ]
        }
      ]
    },
    {
      "cell_type": "code",
      "metadata": {
        "id": "yeAborUUmG6l",
        "colab": {
          "base_uri": "https://localhost:8080/"
        },
        "outputId": "ff2d51fe-3563-4d65-88f1-4bfbb54a0695"
      },
      "source": [
        "trainData.info()"
      ],
      "execution_count": null,
      "outputs": [
        {
          "output_type": "stream",
          "name": "stdout",
          "text": [
            "<class 'pandas.core.frame.DataFrame'>\n",
            "RangeIndex: 2999 entries, 0 to 2998\n",
            "Data columns (total 32 columns):\n",
            " #   Column                Non-Null Count  Dtype \n",
            "---  ------                --------------  ----- \n",
            " 0   MONTH                 2999 non-null   object\n",
            " 1   WEEKOFMONTH           2999 non-null   int64 \n",
            " 2   DAYOFWEEK             2999 non-null   object\n",
            " 3   MAKE                  2999 non-null   object\n",
            " 4   ACCIDENTAREA          2999 non-null   object\n",
            " 5   DAYOFWEEKCLAIMED      2999 non-null   object\n",
            " 6   MONTHCLAIMED          2999 non-null   object\n",
            " 7   WEEKOFMONTHCLAIMED    2999 non-null   int64 \n",
            " 8   SEX                   2999 non-null   object\n",
            " 9   MARITALSTATUS         2999 non-null   object\n",
            " 10  AGE                   2999 non-null   int64 \n",
            " 11  FAULT                 2999 non-null   object\n",
            " 12  POLICYTYPE            2999 non-null   object\n",
            " 13  VEHICLECATEGORY       2999 non-null   object\n",
            " 14  VEHICLEPRICE          2999 non-null   object\n",
            " 15  REPNUMBER             2999 non-null   int64 \n",
            " 16  DEDUCTIBLE            2999 non-null   int64 \n",
            " 17  DRIVERRATING          2999 non-null   int64 \n",
            " 18  DAYS_POLICY_ACCIDENT  2999 non-null   object\n",
            " 19  DAYS_POLICY_CLAIM     2999 non-null   object\n",
            " 20  PASTNUMBEROFCLAIMS    2999 non-null   object\n",
            " 21  AGEOFVEHICLE          2999 non-null   object\n",
            " 22  AGEOFPOLICYHOLDER     2999 non-null   object\n",
            " 23  POLICEREPORTFILED     2999 non-null   object\n",
            " 24  WITNESSPRESENT        2999 non-null   object\n",
            " 25  AGENTTYPE             2999 non-null   object\n",
            " 26  NUMBEROFSUPPLIMENTS   2999 non-null   object\n",
            " 27  ADDRESSCHANGE_CLAIM   2999 non-null   object\n",
            " 28  NUMBEROFCARS          2999 non-null   object\n",
            " 29  YEAR                  2999 non-null   int64 \n",
            " 30  BASEPOLICY            2999 non-null   object\n",
            " 31  FRAUDFOUND            2999 non-null   object\n",
            "dtypes: int64(7), object(25)\n",
            "memory usage: 749.9+ KB\n"
          ]
        }
      ]
    },
    {
      "cell_type": "code",
      "source": [
        "trainData[\"FRAUDFOUND\"].value_counts()"
      ],
      "metadata": {
        "colab": {
          "base_uri": "https://localhost:8080/"
        },
        "id": "yTUvxF8PIHXc",
        "outputId": "a50b3adb-664f-4a4a-92a2-e3b842f4e9e1"
      },
      "execution_count": null,
      "outputs": [
        {
          "output_type": "execute_result",
          "data": {
            "text/plain": [
              "No     2600\n",
              "Yes     399\n",
              "Name: FRAUDFOUND, dtype: int64"
            ]
          },
          "metadata": {},
          "execution_count": 6
        }
      ]
    },
    {
      "cell_type": "code",
      "metadata": {
        "id": "iiAqyaetmG9u",
        "colab": {
          "base_uri": "https://localhost:8080/"
        },
        "outputId": "656b7d8f-7446-4d05-d906-1265bbac966e"
      },
      "source": [
        "testData.info()"
      ],
      "execution_count": null,
      "outputs": [
        {
          "output_type": "stream",
          "name": "stdout",
          "text": [
            "<class 'pandas.core.frame.DataFrame'>\n",
            "RangeIndex: 12918 entries, 0 to 12917\n",
            "Data columns (total 32 columns):\n",
            " #   Column                Non-Null Count  Dtype \n",
            "---  ------                --------------  ----- \n",
            " 0   MONTH                 12918 non-null  object\n",
            " 1   WEEKOFMONTH           12918 non-null  int64 \n",
            " 2   DAYOFWEEK             12918 non-null  object\n",
            " 3   MAKE                  12918 non-null  object\n",
            " 4   ACCIDENTAREA          12918 non-null  object\n",
            " 5   DAYOFWEEKCLAIMED      12918 non-null  object\n",
            " 6   MONTHCLAIMED          12918 non-null  object\n",
            " 7   WEEKOFMONTHCLAIMED    12918 non-null  int64 \n",
            " 8   SEX                   12918 non-null  object\n",
            " 9   MARITALSTATUS         12918 non-null  object\n",
            " 10  AGE                   12918 non-null  int64 \n",
            " 11  FAULT                 12918 non-null  object\n",
            " 12  POLICYTYPE            12918 non-null  object\n",
            " 13  VEHICLECATEGORY       12918 non-null  object\n",
            " 14  VEHICLEPRICE          12918 non-null  object\n",
            " 15  REPNUMBER             12918 non-null  int64 \n",
            " 16  DEDUCTIBLE            12918 non-null  int64 \n",
            " 17  DRIVERRATING          12918 non-null  int64 \n",
            " 18  DAYS_POLICY_ACCIDENT  12918 non-null  object\n",
            " 19  DAYS_POLICY_CLAIM     12918 non-null  object\n",
            " 20  PASTNUMBEROFCLAIMS    12918 non-null  object\n",
            " 21  AGEOFVEHICLE          12918 non-null  object\n",
            " 22  AGEOFPOLICYHOLDER     12918 non-null  object\n",
            " 23  POLICEREPORTFILED     12918 non-null  object\n",
            " 24  WITNESSPRESENT        12918 non-null  object\n",
            " 25  AGENTTYPE             12918 non-null  object\n",
            " 26  NUMBEROFSUPPLIMENTS   12918 non-null  object\n",
            " 27  ADDRESSCHANGE_CLAIM   12918 non-null  object\n",
            " 28  NUMBEROFCARS          12918 non-null  object\n",
            " 29  YEAR                  12918 non-null  int64 \n",
            " 30  BASEPOLICY            12918 non-null  object\n",
            " 31  FRAUDFOUND            12918 non-null  object\n",
            "dtypes: int64(7), object(25)\n",
            "memory usage: 3.2+ MB\n"
          ]
        }
      ]
    },
    {
      "cell_type": "code",
      "metadata": {
        "id": "sgRlMC3dmHAl",
        "colab": {
          "base_uri": "https://localhost:8080/"
        },
        "outputId": "8a842ee1-6d4c-4975-eb96-7ff26e588b9f"
      },
      "source": [
        "#To get list of names of all Columns from a dataframe\n",
        "\n",
        "TrainCols = list(trainData.columns.values)\n",
        "TestCols = list(testData.columns.values)\n",
        "print(TrainCols)\n",
        "print(TestCols)"
      ],
      "execution_count": null,
      "outputs": [
        {
          "output_type": "stream",
          "name": "stdout",
          "text": [
            "['MONTH', 'WEEKOFMONTH', 'DAYOFWEEK', 'MAKE', 'ACCIDENTAREA', 'DAYOFWEEKCLAIMED', 'MONTHCLAIMED', 'WEEKOFMONTHCLAIMED', 'SEX', 'MARITALSTATUS', 'AGE', 'FAULT', 'POLICYTYPE', 'VEHICLECATEGORY', 'VEHICLEPRICE', 'REPNUMBER', 'DEDUCTIBLE', 'DRIVERRATING', 'DAYS_POLICY_ACCIDENT', 'DAYS_POLICY_CLAIM', 'PASTNUMBEROFCLAIMS', 'AGEOFVEHICLE', 'AGEOFPOLICYHOLDER', 'POLICEREPORTFILED', 'WITNESSPRESENT', 'AGENTTYPE', 'NUMBEROFSUPPLIMENTS', 'ADDRESSCHANGE_CLAIM', 'NUMBEROFCARS', 'YEAR', 'BASEPOLICY', 'FRAUDFOUND']\n",
            "['MONTH', 'WEEKOFMONTH', 'DAYOFWEEK', 'MAKE', 'ACCIDENTAREA', 'DAYOFWEEKCLAIMED', 'MONTHCLAIMED', 'WEEKOFMONTHCLAIMED', 'SEX', 'MARITALSTATUS', 'AGE', 'FAULT', 'POLICYTYPE', 'VEHICLECATEGORY', 'VEHICLEPRICE', 'REPNUMBER', 'DEDUCTIBLE', 'DRIVERRATING', 'DAYS_POLICY_ACCIDENT', 'DAYS_POLICY_CLAIM', 'PASTNUMBEROFCLAIMS', 'AGEOFVEHICLE', 'AGEOFPOLICYHOLDER', 'POLICEREPORTFILED', 'WITNESSPRESENT', 'AGENTTYPE', 'NUMBEROFSUPPLIMENTS', 'ADDRESSCHANGE_CLAIM', 'NUMBEROFCARS', 'YEAR', 'BASEPOLICY', 'FRAUDFOUND']\n"
          ]
        }
      ]
    },
    {
      "cell_type": "code",
      "metadata": {
        "id": "Zb-DiyYYmHCu",
        "colab": {
          "base_uri": "https://localhost:8080/"
        },
        "outputId": "1a013217-2e4a-4ed2-ffda-dcc9bba3f5f6"
      },
      "source": [
        "# Seperate Target column from Train Data\n",
        "Xtrain = trainData[TrainCols[0:len(TrainCols)-1]].copy()\n",
        "Ytrain = trainData[['FRAUDFOUND']].copy()\n",
        "print(\"Train Set shape:\")\n",
        "print(Xtrain.shape)\n",
        "print(Ytrain.shape)\n",
        "Xtest = testData[TestCols[0:len(TestCols)-1]].copy()\n",
        "Ytest = testData[['FRAUDFOUND']].copy()\n",
        "print(\"Test Set shape:\")\n",
        "print(Xtest.shape)\n",
        "print(Ytest.shape)"
      ],
      "execution_count": null,
      "outputs": [
        {
          "output_type": "stream",
          "name": "stdout",
          "text": [
            "Train Set shape:\n",
            "(2999, 31)\n",
            "(2999, 1)\n",
            "Test Set shape:\n",
            "(12918, 31)\n",
            "(12918, 1)\n"
          ]
        }
      ]
    },
    {
      "cell_type": "code",
      "metadata": {
        "id": "pPVtdv1jmHFU",
        "colab": {
          "base_uri": "https://localhost:8080/"
        },
        "outputId": "41f30488-70bb-4081-fb49-829ede51ade1"
      },
      "source": [
        "#List of Categorical Features\n",
        "categoricalFeatures = ['MONTH', 'DAYOFWEEK', 'MAKE', 'ACCIDENTAREA', 'DAYOFWEEKCLAIMED', 'MONTHCLAIMED', 'SEX', 'MARITALSTATUS', 'FAULT', 'POLICYTYPE', 'VEHICLECATEGORY', 'VEHICLEPRICE', 'DAYS_POLICY_ACCIDENT', 'DAYS_POLICY_CLAIM', 'PASTNUMBEROFCLAIMS', 'AGEOFVEHICLE', 'AGEOFPOLICYHOLDER', 'POLICEREPORTFILED', 'WITNESSPRESENT', 'AGENTTYPE', 'NUMBEROFSUPPLIMENTS', 'ADDRESSCHANGE_CLAIM', 'NUMBEROFCARS',  'BASEPOLICY']\n",
        "print(categoricalFeatures)"
      ],
      "execution_count": null,
      "outputs": [
        {
          "output_type": "stream",
          "name": "stdout",
          "text": [
            "['MONTH', 'DAYOFWEEK', 'MAKE', 'ACCIDENTAREA', 'DAYOFWEEKCLAIMED', 'MONTHCLAIMED', 'SEX', 'MARITALSTATUS', 'FAULT', 'POLICYTYPE', 'VEHICLECATEGORY', 'VEHICLEPRICE', 'DAYS_POLICY_ACCIDENT', 'DAYS_POLICY_CLAIM', 'PASTNUMBEROFCLAIMS', 'AGEOFVEHICLE', 'AGEOFPOLICYHOLDER', 'POLICEREPORTFILED', 'WITNESSPRESENT', 'AGENTTYPE', 'NUMBEROFSUPPLIMENTS', 'ADDRESSCHANGE_CLAIM', 'NUMBEROFCARS', 'BASEPOLICY']\n"
          ]
        }
      ]
    },
    {
      "cell_type": "code",
      "metadata": {
        "id": "lyattYm7mHH5",
        "colab": {
          "base_uri": "https://localhost:8080/",
          "height": 317
        },
        "outputId": "d449ae39-cbe5-496a-c9a3-97a8c223e9fd"
      },
      "source": [
        "# OneHotEncoding on Train (fit & transform)\n",
        "# OneHotEncoding is to be done on Categorical variables.\n",
        "ohe = OneHotEncoder(handle_unknown='ignore',sparse=False)\n",
        "Xcat = pd.DataFrame(ohe.fit_transform(Xtrain[categoricalFeatures]),columns=ohe.get_feature_names(),index=Xtrain.index)\n",
        "Xtrain = pd.concat([Xtrain,Xcat],axis=1)\n",
        "Xtrain.drop(labels=categoricalFeatures,axis=1,inplace=True)\n",
        "Xtrain.sample(5)"
      ],
      "execution_count": null,
      "outputs": [
        {
          "output_type": "execute_result",
          "data": {
            "text/plain": [
              "      WEEKOFMONTH  WEEKOFMONTHCLAIMED  AGE  REPNUMBER  DEDUCTIBLE  \\\n",
              "2870            3                   4   37          7         400   \n",
              "1327            2                   3   34         13         400   \n",
              "1335            3                   1   45          4         400   \n",
              "64              1                   1   32          4         400   \n",
              "2052            1                   1   35         16         400   \n",
              "\n",
              "      DRIVERRATING  YEAR  x0_Apr  x0_Aug  x0_Dec  ...  x21_4_to_8_years  \\\n",
              "2870             1  1995     0.0     1.0     0.0  ...               0.0   \n",
              "1327             3  1995     0.0     0.0     0.0  ...               0.0   \n",
              "1335             1  1995     0.0     1.0     0.0  ...               0.0   \n",
              "64               2  1994     1.0     0.0     0.0  ...               0.0   \n",
              "2052             4  1995     0.0     0.0     0.0  ...               0.0   \n",
              "\n",
              "      x21_no_change  x21_under_6_months  x22_1-vehicle  x22_2-vehicles  \\\n",
              "2870            1.0                 0.0            1.0             0.0   \n",
              "1327            1.0                 0.0            1.0             0.0   \n",
              "1335            1.0                 0.0            1.0             0.0   \n",
              "64              1.0                 0.0            1.0             0.0   \n",
              "2052            1.0                 0.0            1.0             0.0   \n",
              "\n",
              "      x22_3_to_4  x22_5_to_8  x23_All_Perils  x23_Collision  x23_Liability  \n",
              "2870         0.0         0.0             1.0            0.0            0.0  \n",
              "1327         0.0         0.0             1.0            0.0            0.0  \n",
              "1335         0.0         0.0             1.0            0.0            0.0  \n",
              "64           0.0         0.0             1.0            0.0            0.0  \n",
              "2052         0.0         0.0             0.0            1.0            0.0  \n",
              "\n",
              "[5 rows x 139 columns]"
            ],
            "text/html": [
              "\n",
              "  <div id=\"df-971f6568-1342-4452-bdcd-51cbe5146e5c\">\n",
              "    <div class=\"colab-df-container\">\n",
              "      <div>\n",
              "<style scoped>\n",
              "    .dataframe tbody tr th:only-of-type {\n",
              "        vertical-align: middle;\n",
              "    }\n",
              "\n",
              "    .dataframe tbody tr th {\n",
              "        vertical-align: top;\n",
              "    }\n",
              "\n",
              "    .dataframe thead th {\n",
              "        text-align: right;\n",
              "    }\n",
              "</style>\n",
              "<table border=\"1\" class=\"dataframe\">\n",
              "  <thead>\n",
              "    <tr style=\"text-align: right;\">\n",
              "      <th></th>\n",
              "      <th>WEEKOFMONTH</th>\n",
              "      <th>WEEKOFMONTHCLAIMED</th>\n",
              "      <th>AGE</th>\n",
              "      <th>REPNUMBER</th>\n",
              "      <th>DEDUCTIBLE</th>\n",
              "      <th>DRIVERRATING</th>\n",
              "      <th>YEAR</th>\n",
              "      <th>x0_Apr</th>\n",
              "      <th>x0_Aug</th>\n",
              "      <th>x0_Dec</th>\n",
              "      <th>...</th>\n",
              "      <th>x21_4_to_8_years</th>\n",
              "      <th>x21_no_change</th>\n",
              "      <th>x21_under_6_months</th>\n",
              "      <th>x22_1-vehicle</th>\n",
              "      <th>x22_2-vehicles</th>\n",
              "      <th>x22_3_to_4</th>\n",
              "      <th>x22_5_to_8</th>\n",
              "      <th>x23_All_Perils</th>\n",
              "      <th>x23_Collision</th>\n",
              "      <th>x23_Liability</th>\n",
              "    </tr>\n",
              "  </thead>\n",
              "  <tbody>\n",
              "    <tr>\n",
              "      <th>2870</th>\n",
              "      <td>3</td>\n",
              "      <td>4</td>\n",
              "      <td>37</td>\n",
              "      <td>7</td>\n",
              "      <td>400</td>\n",
              "      <td>1</td>\n",
              "      <td>1995</td>\n",
              "      <td>0.0</td>\n",
              "      <td>1.0</td>\n",
              "      <td>0.0</td>\n",
              "      <td>...</td>\n",
              "      <td>0.0</td>\n",
              "      <td>1.0</td>\n",
              "      <td>0.0</td>\n",
              "      <td>1.0</td>\n",
              "      <td>0.0</td>\n",
              "      <td>0.0</td>\n",
              "      <td>0.0</td>\n",
              "      <td>1.0</td>\n",
              "      <td>0.0</td>\n",
              "      <td>0.0</td>\n",
              "    </tr>\n",
              "    <tr>\n",
              "      <th>1327</th>\n",
              "      <td>2</td>\n",
              "      <td>3</td>\n",
              "      <td>34</td>\n",
              "      <td>13</td>\n",
              "      <td>400</td>\n",
              "      <td>3</td>\n",
              "      <td>1995</td>\n",
              "      <td>0.0</td>\n",
              "      <td>0.0</td>\n",
              "      <td>0.0</td>\n",
              "      <td>...</td>\n",
              "      <td>0.0</td>\n",
              "      <td>1.0</td>\n",
              "      <td>0.0</td>\n",
              "      <td>1.0</td>\n",
              "      <td>0.0</td>\n",
              "      <td>0.0</td>\n",
              "      <td>0.0</td>\n",
              "      <td>1.0</td>\n",
              "      <td>0.0</td>\n",
              "      <td>0.0</td>\n",
              "    </tr>\n",
              "    <tr>\n",
              "      <th>1335</th>\n",
              "      <td>3</td>\n",
              "      <td>1</td>\n",
              "      <td>45</td>\n",
              "      <td>4</td>\n",
              "      <td>400</td>\n",
              "      <td>1</td>\n",
              "      <td>1995</td>\n",
              "      <td>0.0</td>\n",
              "      <td>1.0</td>\n",
              "      <td>0.0</td>\n",
              "      <td>...</td>\n",
              "      <td>0.0</td>\n",
              "      <td>1.0</td>\n",
              "      <td>0.0</td>\n",
              "      <td>1.0</td>\n",
              "      <td>0.0</td>\n",
              "      <td>0.0</td>\n",
              "      <td>0.0</td>\n",
              "      <td>1.0</td>\n",
              "      <td>0.0</td>\n",
              "      <td>0.0</td>\n",
              "    </tr>\n",
              "    <tr>\n",
              "      <th>64</th>\n",
              "      <td>1</td>\n",
              "      <td>1</td>\n",
              "      <td>32</td>\n",
              "      <td>4</td>\n",
              "      <td>400</td>\n",
              "      <td>2</td>\n",
              "      <td>1994</td>\n",
              "      <td>1.0</td>\n",
              "      <td>0.0</td>\n",
              "      <td>0.0</td>\n",
              "      <td>...</td>\n",
              "      <td>0.0</td>\n",
              "      <td>1.0</td>\n",
              "      <td>0.0</td>\n",
              "      <td>1.0</td>\n",
              "      <td>0.0</td>\n",
              "      <td>0.0</td>\n",
              "      <td>0.0</td>\n",
              "      <td>1.0</td>\n",
              "      <td>0.0</td>\n",
              "      <td>0.0</td>\n",
              "    </tr>\n",
              "    <tr>\n",
              "      <th>2052</th>\n",
              "      <td>1</td>\n",
              "      <td>1</td>\n",
              "      <td>35</td>\n",
              "      <td>16</td>\n",
              "      <td>400</td>\n",
              "      <td>4</td>\n",
              "      <td>1995</td>\n",
              "      <td>0.0</td>\n",
              "      <td>0.0</td>\n",
              "      <td>0.0</td>\n",
              "      <td>...</td>\n",
              "      <td>0.0</td>\n",
              "      <td>1.0</td>\n",
              "      <td>0.0</td>\n",
              "      <td>1.0</td>\n",
              "      <td>0.0</td>\n",
              "      <td>0.0</td>\n",
              "      <td>0.0</td>\n",
              "      <td>0.0</td>\n",
              "      <td>1.0</td>\n",
              "      <td>0.0</td>\n",
              "    </tr>\n",
              "  </tbody>\n",
              "</table>\n",
              "<p>5 rows × 139 columns</p>\n",
              "</div>\n",
              "      <button class=\"colab-df-convert\" onclick=\"convertToInteractive('df-971f6568-1342-4452-bdcd-51cbe5146e5c')\"\n",
              "              title=\"Convert this dataframe to an interactive table.\"\n",
              "              style=\"display:none;\">\n",
              "        \n",
              "  <svg xmlns=\"http://www.w3.org/2000/svg\" height=\"24px\"viewBox=\"0 0 24 24\"\n",
              "       width=\"24px\">\n",
              "    <path d=\"M0 0h24v24H0V0z\" fill=\"none\"/>\n",
              "    <path d=\"M18.56 5.44l.94 2.06.94-2.06 2.06-.94-2.06-.94-.94-2.06-.94 2.06-2.06.94zm-11 1L8.5 8.5l.94-2.06 2.06-.94-2.06-.94L8.5 2.5l-.94 2.06-2.06.94zm10 10l.94 2.06.94-2.06 2.06-.94-2.06-.94-.94-2.06-.94 2.06-2.06.94z\"/><path d=\"M17.41 7.96l-1.37-1.37c-.4-.4-.92-.59-1.43-.59-.52 0-1.04.2-1.43.59L10.3 9.45l-7.72 7.72c-.78.78-.78 2.05 0 2.83L4 21.41c.39.39.9.59 1.41.59.51 0 1.02-.2 1.41-.59l7.78-7.78 2.81-2.81c.8-.78.8-2.07 0-2.86zM5.41 20L4 18.59l7.72-7.72 1.47 1.35L5.41 20z\"/>\n",
              "  </svg>\n",
              "      </button>\n",
              "      \n",
              "  <style>\n",
              "    .colab-df-container {\n",
              "      display:flex;\n",
              "      flex-wrap:wrap;\n",
              "      gap: 12px;\n",
              "    }\n",
              "\n",
              "    .colab-df-convert {\n",
              "      background-color: #E8F0FE;\n",
              "      border: none;\n",
              "      border-radius: 50%;\n",
              "      cursor: pointer;\n",
              "      display: none;\n",
              "      fill: #1967D2;\n",
              "      height: 32px;\n",
              "      padding: 0 0 0 0;\n",
              "      width: 32px;\n",
              "    }\n",
              "\n",
              "    .colab-df-convert:hover {\n",
              "      background-color: #E2EBFA;\n",
              "      box-shadow: 0px 1px 2px rgba(60, 64, 67, 0.3), 0px 1px 3px 1px rgba(60, 64, 67, 0.15);\n",
              "      fill: #174EA6;\n",
              "    }\n",
              "\n",
              "    [theme=dark] .colab-df-convert {\n",
              "      background-color: #3B4455;\n",
              "      fill: #D2E3FC;\n",
              "    }\n",
              "\n",
              "    [theme=dark] .colab-df-convert:hover {\n",
              "      background-color: #434B5C;\n",
              "      box-shadow: 0px 1px 3px 1px rgba(0, 0, 0, 0.15);\n",
              "      filter: drop-shadow(0px 1px 2px rgba(0, 0, 0, 0.3));\n",
              "      fill: #FFFFFF;\n",
              "    }\n",
              "  </style>\n",
              "\n",
              "      <script>\n",
              "        const buttonEl =\n",
              "          document.querySelector('#df-971f6568-1342-4452-bdcd-51cbe5146e5c button.colab-df-convert');\n",
              "        buttonEl.style.display =\n",
              "          google.colab.kernel.accessAllowed ? 'block' : 'none';\n",
              "\n",
              "        async function convertToInteractive(key) {\n",
              "          const element = document.querySelector('#df-971f6568-1342-4452-bdcd-51cbe5146e5c');\n",
              "          const dataTable =\n",
              "            await google.colab.kernel.invokeFunction('convertToInteractive',\n",
              "                                                     [key], {});\n",
              "          if (!dataTable) return;\n",
              "\n",
              "          const docLinkHtml = 'Like what you see? Visit the ' +\n",
              "            '<a target=\"_blank\" href=https://colab.research.google.com/notebooks/data_table.ipynb>data table notebook</a>'\n",
              "            + ' to learn more about interactive tables.';\n",
              "          element.innerHTML = '';\n",
              "          dataTable['output_type'] = 'display_data';\n",
              "          await google.colab.output.renderOutput(dataTable, element);\n",
              "          const docLink = document.createElement('div');\n",
              "          docLink.innerHTML = docLinkHtml;\n",
              "          element.appendChild(docLink);\n",
              "        }\n",
              "      </script>\n",
              "    </div>\n",
              "  </div>\n",
              "  "
            ]
          },
          "metadata": {},
          "execution_count": 11
        }
      ]
    },
    {
      "cell_type": "code",
      "metadata": {
        "id": "WKXBfq2ImHJw",
        "colab": {
          "base_uri": "https://localhost:8080/",
          "height": 317
        },
        "outputId": "8ef0ba32-bc82-4c97-f837-037f50d3497b"
      },
      "source": [
        "# OneHotEncoding on Test (only transform)\n",
        "# OneHotEncoding is to be done on Categorical variables.\n",
        "Xcat = pd.DataFrame(ohe.transform(Xtest[categoricalFeatures]),columns=ohe.get_feature_names(),index=Xtest.index)\n",
        "Xtest = pd.concat([Xtest,Xcat],axis=1)\n",
        "Xtest.drop(labels=categoricalFeatures,axis=1,inplace=True)\n",
        "Xtest.sample(5)"
      ],
      "execution_count": null,
      "outputs": [
        {
          "output_type": "execute_result",
          "data": {
            "text/plain": [
              "       WEEKOFMONTH  WEEKOFMONTHCLAIMED  AGE  REPNUMBER  DEDUCTIBLE  \\\n",
              "12619            4                   4   36          2         500   \n",
              "736              2                   2   37          2         400   \n",
              "4278             1                   2   52          2         400   \n",
              "8846             1                   3   25          4         400   \n",
              "1415             3                   4   32          7         400   \n",
              "\n",
              "       DRIVERRATING  YEAR  x0_Apr  x0_Aug  x0_Dec  ...  x21_4_to_8_years  \\\n",
              "12619             2  1996     0.0     0.0     0.0  ...               0.0   \n",
              "736               1  1995     0.0     0.0     1.0  ...               0.0   \n",
              "4278              2  1995     0.0     1.0     0.0  ...               0.0   \n",
              "8846              1  1994     0.0     0.0     0.0  ...               0.0   \n",
              "1415              3  1995     0.0     0.0     0.0  ...               0.0   \n",
              "\n",
              "       x21_no_change  x21_under_6_months  x22_1-vehicle  x22_2-vehicles  \\\n",
              "12619            0.0                 0.0            1.0             0.0   \n",
              "736              1.0                 0.0            1.0             0.0   \n",
              "4278             1.0                 0.0            1.0             0.0   \n",
              "8846             1.0                 0.0            1.0             0.0   \n",
              "1415             1.0                 0.0            1.0             0.0   \n",
              "\n",
              "       x22_3_to_4  x22_5_to_8  x23_All_Perils  x23_Collision  x23_Liability  \n",
              "12619         0.0         0.0             0.0            0.0            1.0  \n",
              "736           0.0         0.0             0.0            1.0            0.0  \n",
              "4278          0.0         0.0             0.0            0.0            1.0  \n",
              "8846          0.0         0.0             1.0            0.0            0.0  \n",
              "1415          0.0         0.0             1.0            0.0            0.0  \n",
              "\n",
              "[5 rows x 139 columns]"
            ],
            "text/html": [
              "\n",
              "  <div id=\"df-3b0a2381-e577-40c5-9562-0d0467e716f5\">\n",
              "    <div class=\"colab-df-container\">\n",
              "      <div>\n",
              "<style scoped>\n",
              "    .dataframe tbody tr th:only-of-type {\n",
              "        vertical-align: middle;\n",
              "    }\n",
              "\n",
              "    .dataframe tbody tr th {\n",
              "        vertical-align: top;\n",
              "    }\n",
              "\n",
              "    .dataframe thead th {\n",
              "        text-align: right;\n",
              "    }\n",
              "</style>\n",
              "<table border=\"1\" class=\"dataframe\">\n",
              "  <thead>\n",
              "    <tr style=\"text-align: right;\">\n",
              "      <th></th>\n",
              "      <th>WEEKOFMONTH</th>\n",
              "      <th>WEEKOFMONTHCLAIMED</th>\n",
              "      <th>AGE</th>\n",
              "      <th>REPNUMBER</th>\n",
              "      <th>DEDUCTIBLE</th>\n",
              "      <th>DRIVERRATING</th>\n",
              "      <th>YEAR</th>\n",
              "      <th>x0_Apr</th>\n",
              "      <th>x0_Aug</th>\n",
              "      <th>x0_Dec</th>\n",
              "      <th>...</th>\n",
              "      <th>x21_4_to_8_years</th>\n",
              "      <th>x21_no_change</th>\n",
              "      <th>x21_under_6_months</th>\n",
              "      <th>x22_1-vehicle</th>\n",
              "      <th>x22_2-vehicles</th>\n",
              "      <th>x22_3_to_4</th>\n",
              "      <th>x22_5_to_8</th>\n",
              "      <th>x23_All_Perils</th>\n",
              "      <th>x23_Collision</th>\n",
              "      <th>x23_Liability</th>\n",
              "    </tr>\n",
              "  </thead>\n",
              "  <tbody>\n",
              "    <tr>\n",
              "      <th>12619</th>\n",
              "      <td>4</td>\n",
              "      <td>4</td>\n",
              "      <td>36</td>\n",
              "      <td>2</td>\n",
              "      <td>500</td>\n",
              "      <td>2</td>\n",
              "      <td>1996</td>\n",
              "      <td>0.0</td>\n",
              "      <td>0.0</td>\n",
              "      <td>0.0</td>\n",
              "      <td>...</td>\n",
              "      <td>0.0</td>\n",
              "      <td>0.0</td>\n",
              "      <td>0.0</td>\n",
              "      <td>1.0</td>\n",
              "      <td>0.0</td>\n",
              "      <td>0.0</td>\n",
              "      <td>0.0</td>\n",
              "      <td>0.0</td>\n",
              "      <td>0.0</td>\n",
              "      <td>1.0</td>\n",
              "    </tr>\n",
              "    <tr>\n",
              "      <th>736</th>\n",
              "      <td>2</td>\n",
              "      <td>2</td>\n",
              "      <td>37</td>\n",
              "      <td>2</td>\n",
              "      <td>400</td>\n",
              "      <td>1</td>\n",
              "      <td>1995</td>\n",
              "      <td>0.0</td>\n",
              "      <td>0.0</td>\n",
              "      <td>1.0</td>\n",
              "      <td>...</td>\n",
              "      <td>0.0</td>\n",
              "      <td>1.0</td>\n",
              "      <td>0.0</td>\n",
              "      <td>1.0</td>\n",
              "      <td>0.0</td>\n",
              "      <td>0.0</td>\n",
              "      <td>0.0</td>\n",
              "      <td>0.0</td>\n",
              "      <td>1.0</td>\n",
              "      <td>0.0</td>\n",
              "    </tr>\n",
              "    <tr>\n",
              "      <th>4278</th>\n",
              "      <td>1</td>\n",
              "      <td>2</td>\n",
              "      <td>52</td>\n",
              "      <td>2</td>\n",
              "      <td>400</td>\n",
              "      <td>2</td>\n",
              "      <td>1995</td>\n",
              "      <td>0.0</td>\n",
              "      <td>1.0</td>\n",
              "      <td>0.0</td>\n",
              "      <td>...</td>\n",
              "      <td>0.0</td>\n",
              "      <td>1.0</td>\n",
              "      <td>0.0</td>\n",
              "      <td>1.0</td>\n",
              "      <td>0.0</td>\n",
              "      <td>0.0</td>\n",
              "      <td>0.0</td>\n",
              "      <td>0.0</td>\n",
              "      <td>0.0</td>\n",
              "      <td>1.0</td>\n",
              "    </tr>\n",
              "    <tr>\n",
              "      <th>8846</th>\n",
              "      <td>1</td>\n",
              "      <td>3</td>\n",
              "      <td>25</td>\n",
              "      <td>4</td>\n",
              "      <td>400</td>\n",
              "      <td>1</td>\n",
              "      <td>1994</td>\n",
              "      <td>0.0</td>\n",
              "      <td>0.0</td>\n",
              "      <td>0.0</td>\n",
              "      <td>...</td>\n",
              "      <td>0.0</td>\n",
              "      <td>1.0</td>\n",
              "      <td>0.0</td>\n",
              "      <td>1.0</td>\n",
              "      <td>0.0</td>\n",
              "      <td>0.0</td>\n",
              "      <td>0.0</td>\n",
              "      <td>1.0</td>\n",
              "      <td>0.0</td>\n",
              "      <td>0.0</td>\n",
              "    </tr>\n",
              "    <tr>\n",
              "      <th>1415</th>\n",
              "      <td>3</td>\n",
              "      <td>4</td>\n",
              "      <td>32</td>\n",
              "      <td>7</td>\n",
              "      <td>400</td>\n",
              "      <td>3</td>\n",
              "      <td>1995</td>\n",
              "      <td>0.0</td>\n",
              "      <td>0.0</td>\n",
              "      <td>0.0</td>\n",
              "      <td>...</td>\n",
              "      <td>0.0</td>\n",
              "      <td>1.0</td>\n",
              "      <td>0.0</td>\n",
              "      <td>1.0</td>\n",
              "      <td>0.0</td>\n",
              "      <td>0.0</td>\n",
              "      <td>0.0</td>\n",
              "      <td>1.0</td>\n",
              "      <td>0.0</td>\n",
              "      <td>0.0</td>\n",
              "    </tr>\n",
              "  </tbody>\n",
              "</table>\n",
              "<p>5 rows × 139 columns</p>\n",
              "</div>\n",
              "      <button class=\"colab-df-convert\" onclick=\"convertToInteractive('df-3b0a2381-e577-40c5-9562-0d0467e716f5')\"\n",
              "              title=\"Convert this dataframe to an interactive table.\"\n",
              "              style=\"display:none;\">\n",
              "        \n",
              "  <svg xmlns=\"http://www.w3.org/2000/svg\" height=\"24px\"viewBox=\"0 0 24 24\"\n",
              "       width=\"24px\">\n",
              "    <path d=\"M0 0h24v24H0V0z\" fill=\"none\"/>\n",
              "    <path d=\"M18.56 5.44l.94 2.06.94-2.06 2.06-.94-2.06-.94-.94-2.06-.94 2.06-2.06.94zm-11 1L8.5 8.5l.94-2.06 2.06-.94-2.06-.94L8.5 2.5l-.94 2.06-2.06.94zm10 10l.94 2.06.94-2.06 2.06-.94-2.06-.94-.94-2.06-.94 2.06-2.06.94z\"/><path d=\"M17.41 7.96l-1.37-1.37c-.4-.4-.92-.59-1.43-.59-.52 0-1.04.2-1.43.59L10.3 9.45l-7.72 7.72c-.78.78-.78 2.05 0 2.83L4 21.41c.39.39.9.59 1.41.59.51 0 1.02-.2 1.41-.59l7.78-7.78 2.81-2.81c.8-.78.8-2.07 0-2.86zM5.41 20L4 18.59l7.72-7.72 1.47 1.35L5.41 20z\"/>\n",
              "  </svg>\n",
              "      </button>\n",
              "      \n",
              "  <style>\n",
              "    .colab-df-container {\n",
              "      display:flex;\n",
              "      flex-wrap:wrap;\n",
              "      gap: 12px;\n",
              "    }\n",
              "\n",
              "    .colab-df-convert {\n",
              "      background-color: #E8F0FE;\n",
              "      border: none;\n",
              "      border-radius: 50%;\n",
              "      cursor: pointer;\n",
              "      display: none;\n",
              "      fill: #1967D2;\n",
              "      height: 32px;\n",
              "      padding: 0 0 0 0;\n",
              "      width: 32px;\n",
              "    }\n",
              "\n",
              "    .colab-df-convert:hover {\n",
              "      background-color: #E2EBFA;\n",
              "      box-shadow: 0px 1px 2px rgba(60, 64, 67, 0.3), 0px 1px 3px 1px rgba(60, 64, 67, 0.15);\n",
              "      fill: #174EA6;\n",
              "    }\n",
              "\n",
              "    [theme=dark] .colab-df-convert {\n",
              "      background-color: #3B4455;\n",
              "      fill: #D2E3FC;\n",
              "    }\n",
              "\n",
              "    [theme=dark] .colab-df-convert:hover {\n",
              "      background-color: #434B5C;\n",
              "      box-shadow: 0px 1px 3px 1px rgba(0, 0, 0, 0.15);\n",
              "      filter: drop-shadow(0px 1px 2px rgba(0, 0, 0, 0.3));\n",
              "      fill: #FFFFFF;\n",
              "    }\n",
              "  </style>\n",
              "\n",
              "      <script>\n",
              "        const buttonEl =\n",
              "          document.querySelector('#df-3b0a2381-e577-40c5-9562-0d0467e716f5 button.colab-df-convert');\n",
              "        buttonEl.style.display =\n",
              "          google.colab.kernel.accessAllowed ? 'block' : 'none';\n",
              "\n",
              "        async function convertToInteractive(key) {\n",
              "          const element = document.querySelector('#df-3b0a2381-e577-40c5-9562-0d0467e716f5');\n",
              "          const dataTable =\n",
              "            await google.colab.kernel.invokeFunction('convertToInteractive',\n",
              "                                                     [key], {});\n",
              "          if (!dataTable) return;\n",
              "\n",
              "          const docLinkHtml = 'Like what you see? Visit the ' +\n",
              "            '<a target=\"_blank\" href=https://colab.research.google.com/notebooks/data_table.ipynb>data table notebook</a>'\n",
              "            + ' to learn more about interactive tables.';\n",
              "          element.innerHTML = '';\n",
              "          dataTable['output_type'] = 'display_data';\n",
              "          await google.colab.output.renderOutput(dataTable, element);\n",
              "          const docLink = document.createElement('div');\n",
              "          docLink.innerHTML = docLinkHtml;\n",
              "          element.appendChild(docLink);\n",
              "        }\n",
              "      </script>\n",
              "    </div>\n",
              "  </div>\n",
              "  "
            ]
          },
          "metadata": {},
          "execution_count": 12
        }
      ]
    },
    {
      "cell_type": "code",
      "metadata": {
        "id": "WoJIlhutmHMq",
        "colab": {
          "base_uri": "https://localhost:8080/"
        },
        "outputId": "e1278821-0e11-48b2-a858-8e29b34d4fac"
      },
      "source": [
        "#Decision Tree with default parameters \n",
        "dt = DecisionTreeClassifier()\n",
        "dt.fit(Xtrain, Ytrain)\n"
      ],
      "execution_count": null,
      "outputs": [
        {
          "output_type": "execute_result",
          "data": {
            "text/plain": [
              "DecisionTreeClassifier()"
            ]
          },
          "metadata": {},
          "execution_count": 13
        }
      ]
    },
    {
      "cell_type": "code",
      "metadata": {
        "id": "Bv-B6oECojwE",
        "colab": {
          "base_uri": "https://localhost:8080/"
        },
        "outputId": "d3406153-fd24-4b3c-ed85-a0e72b8e95f8"
      },
      "source": [
        "X_Pred = dt.predict(Xtest)\n",
        "XPred = dt.predict(Xtrain)\n",
        "#Model Accuracy\n",
        "print(\"Train Accuracy:\", metrics.accuracy_score(Ytrain,XPred))\n",
        "print(\"Test Accuracy:\", metrics.accuracy_score(Ytest,X_Pred))\n",
        "print(\"Confusion Matrix for Decision Tree:\")\n",
        "print(confusion_matrix(Ytest,X_Pred))\n",
        "print(\"Max Depth\",dt.get_depth())\n",
        "print(\"Leaf\",dt.get_n_leaves())\n",
        "print('Printing the precision and recall, among other metrics')\n",
        "print(metrics.classification_report(Ytest, X_Pred))"
      ],
      "execution_count": null,
      "outputs": [
        {
          "output_type": "stream",
          "name": "stdout",
          "text": [
            "Train Accuracy: 1.0\n",
            "Test Accuracy: 0.8810187335500852\n",
            "Confusion Matrix for Decision Tree:\n",
            "[[10930  1490]\n",
            " [   47   451]]\n",
            "Max Depth 24\n",
            "Leaf 290\n",
            "Printing the precision and recall, among other metrics\n",
            "              precision    recall  f1-score   support\n",
            "\n",
            "          No       1.00      0.88      0.93     12420\n",
            "         Yes       0.23      0.91      0.37       498\n",
            "\n",
            "    accuracy                           0.88     12918\n",
            "   macro avg       0.61      0.89      0.65     12918\n",
            "weighted avg       0.97      0.88      0.91     12918\n",
            "\n"
          ]
        }
      ]
    },
    {
      "cell_type": "code",
      "source": [
        "#Decision Tree with new parameters 2nd\n",
        "dt2 = DecisionTreeClassifier(criterion='entropy', splitter='random', max_depth=5)\n",
        "dt2.fit(Xtrain, Ytrain)"
      ],
      "metadata": {
        "colab": {
          "base_uri": "https://localhost:8080/"
        },
        "id": "QX72LaSdCrFZ",
        "outputId": "cf649856-982b-41cf-a340-10d5b023d976"
      },
      "execution_count": null,
      "outputs": [
        {
          "output_type": "execute_result",
          "data": {
            "text/plain": [
              "DecisionTreeClassifier(criterion='entropy', max_depth=5, splitter='random')"
            ]
          },
          "metadata": {},
          "execution_count": 15
        }
      ]
    },
    {
      "cell_type": "code",
      "source": [
        "X_Pred2 = dt2.predict(Xtest)\n",
        "XPred2 = dt2.predict(Xtrain)\n",
        "#Model Accuracy\n",
        "print(\"Train Accuracy:\", metrics.accuracy_score(Ytrain,XPred2))\n",
        "print(\"Test Accuracy:\", metrics.accuracy_score(Ytest,X_Pred2))\n",
        "print(\"Confusion Matrix for Decision Tree:\")\n",
        "print(confusion_matrix(Ytest,X_Pred2))\n",
        "print(\"Max Depth\",dt.get_depth())\n",
        "print(\"Leaf\",dt.get_n_leaves())\n",
        "print('Printing the precision and recall, among other metrics')\n",
        "print(metrics.classification_report(Ytest, X_Pred2))"
      ],
      "metadata": {
        "colab": {
          "base_uri": "https://localhost:8080/"
        },
        "id": "CpsgHDofZobC",
        "outputId": "51ff1408-c519-400e-b5c4-8da57fb8ffff"
      },
      "execution_count": null,
      "outputs": [
        {
          "output_type": "stream",
          "name": "stdout",
          "text": [
            "Train Accuracy: 0.8996332110703568\n",
            "Test Accuracy: 0.9127573927852609\n",
            "Confusion Matrix for Decision Tree:\n",
            "[[11627   793]\n",
            " [  334   164]]\n",
            "Max Depth 24\n",
            "Leaf 290\n",
            "Printing the precision and recall, among other metrics\n",
            "              precision    recall  f1-score   support\n",
            "\n",
            "          No       0.97      0.94      0.95     12420\n",
            "         Yes       0.17      0.33      0.23       498\n",
            "\n",
            "    accuracy                           0.91     12918\n",
            "   macro avg       0.57      0.63      0.59     12918\n",
            "weighted avg       0.94      0.91      0.93     12918\n",
            "\n"
          ]
        }
      ]
    },
    {
      "cell_type": "code",
      "source": [
        "rf = RandomForestClassifier()\n",
        "rf.fit(Xtrain, Ytrain)\n",
        "\n"
      ],
      "metadata": {
        "colab": {
          "base_uri": "https://localhost:8080/"
        },
        "id": "GQjlWESVa7vw",
        "outputId": "02ff90b3-57fc-4fd2-cec9-928a0ddaf0b8"
      },
      "execution_count": null,
      "outputs": [
        {
          "output_type": "execute_result",
          "data": {
            "text/plain": [
              "RandomForestClassifier()"
            ]
          },
          "metadata": {},
          "execution_count": 17
        }
      ]
    },
    {
      "cell_type": "code",
      "metadata": {
        "id": "Jqu4blt4ojyq",
        "colab": {
          "base_uri": "https://localhost:8080/"
        },
        "outputId": "c61797d7-5137-48c7-d41b-cc861e8fb054"
      },
      "source": [
        "X_Pred1 = rf.predict(Xtest)\n",
        "XPred1 = rf.predict(Xtrain)\n",
        "#Model Accuracy for Random Forest\n",
        "print(\"Train Accuracy:\", metrics.accuracy_score(Ytrain,XPred1))\n",
        "print(\"Test Accuracy:\", metrics.accuracy_score(Ytest,X_Pred1))\n",
        "print(\"Confusion Matrix for Random Forest :\")\n",
        "print(confusion_matrix(Ytest,X_Pred1))\n",
        "print('Printing the precision and recall, among other metrics')\n",
        "print(metrics.classification_report(Ytest, X_Pred1))"
      ],
      "execution_count": null,
      "outputs": [
        {
          "output_type": "stream",
          "name": "stdout",
          "text": [
            "Train Accuracy: 0.9993331110370124\n",
            "Test Accuracy: 0.9606750270939773\n",
            "Confusion Matrix for Random Forest :\n",
            "[[11996   424]\n",
            " [   84   414]]\n",
            "Printing the precision and recall, among other metrics\n",
            "              precision    recall  f1-score   support\n",
            "\n",
            "          No       0.99      0.97      0.98     12420\n",
            "         Yes       0.49      0.83      0.62       498\n",
            "\n",
            "    accuracy                           0.96     12918\n",
            "   macro avg       0.74      0.90      0.80     12918\n",
            "weighted avg       0.97      0.96      0.97     12918\n",
            "\n"
          ]
        }
      ]
    },
    {
      "cell_type": "markdown",
      "metadata": {
        "id": "ZsxXgxOwpmr2"
      },
      "source": [
        "Decision Tree: Random & Grid Search"
      ]
    },
    {
      "cell_type": "code",
      "metadata": {
        "id": "BdI0GelEpkdd",
        "colab": {
          "base_uri": "https://localhost:8080/"
        },
        "outputId": "a06e78ee-7b25-4061-cf82-f468fc6afa4b"
      },
      "source": [
        "#Hyperparameter tuning done for decision tree classifier\n",
        "\n",
        "#RANDOM SEARCH\n",
        "\n",
        "import time\n",
        "start_time = time.time()\n",
        "\n",
        "print(\"RandomizedSearchCV-Decision tree\")\n",
        "parameters={'min_samples_leaf' : range(10,300,10),'max_depth': \n",
        "            range(5,30,2),'criterion':['gini','entropy']}\n",
        "dt_random = RandomizedSearchCV(dt,parameters,n_iter=25,cv=5)\n",
        "dt_random.fit(Xtrain, Ytrain)\n",
        "grid_parm=dt_random.best_params_\n",
        "print(grid_parm)\n",
        "print(\"accuracy Score for Decision Tree:{0:6f}\".\n",
        "      format(dt_random.score(Xtest,Ytest)))\n",
        "\n",
        "print(\"--- %s seconds ---\" % (time.time() - start_time))"
      ],
      "execution_count": null,
      "outputs": [
        {
          "output_type": "stream",
          "name": "stdout",
          "text": [
            "RandomizedSearchCV-Decision tree\n",
            "{'min_samples_leaf': 40, 'max_depth': 21, 'criterion': 'entropy'}\n",
            "accuracy Score for Decision Tree:0.907493\n",
            "--- 5.9876954555511475 seconds ---\n"
          ]
        }
      ]
    },
    {
      "cell_type": "code",
      "metadata": {
        "id": "fsp_cahCpkf_",
        "colab": {
          "base_uri": "https://localhost:8080/"
        },
        "outputId": "0b5c958d-a1b8-4c49-f01d-7ff91634c21b"
      },
      "source": [
        "#GRID SEARCH FOR DECISION TREE MODEL\n",
        "\n",
        "import time\n",
        "start_time = time.time()\n",
        "\n",
        "print(\"GridSearchCV-Decision tree\")\n",
        "dt_grid = GridSearchCV(dt,parameters)\n",
        "dt_grid.fit(Xtrain, Ytrain)\n",
        "grid_parm1=dt_grid.best_params_     #getting best parameters combination \n",
        "print(grid_parm1)\n",
        "print(\"accuracy Score for Decision Tree:{0:6f}\".\n",
        "      format(dt_grid.score(Xtest,Ytest)))\n",
        "\n",
        "print(\"--- %s seconds ---\" % (time.time() - start_time))"
      ],
      "execution_count": null,
      "outputs": [
        {
          "output_type": "stream",
          "name": "stdout",
          "text": [
            "GridSearchCV-Decision tree\n",
            "{'criterion': 'entropy', 'max_depth': 7, 'min_samples_leaf': 30}\n",
            "accuracy Score for Decision Tree:0.897430\n",
            "--- 90.97931051254272 seconds ---\n"
          ]
        }
      ]
    },
    {
      "cell_type": "code",
      "metadata": {
        "id": "5qebKqnlpkiH"
      },
      "source": [
        "#Using the parameters obtained from HyperParameterTuning in the DecisionTreeClassifier \n",
        "dtRand = DecisionTreeClassifier(**grid_parm)\n",
        "dtGrid = DecisionTreeClassifier(**grid_parm1)\n",
        "\n",
        "dtRand.fit(Xtrain,Ytrain)\n",
        "dtRand_predict = dtRand.predict(Xtest)\n",
        "dtGrid.fit(Xtrain,Ytrain)\n",
        "dtGrid_predict = dtGrid.predict(Xtest)"
      ],
      "execution_count": null,
      "outputs": []
    },
    {
      "cell_type": "code",
      "metadata": {
        "id": "rK7heVWJpkk2",
        "colab": {
          "base_uri": "https://localhost:8080/"
        },
        "outputId": "f901846b-c402-4e81-84d2-b404c09acd2c"
      },
      "source": [
        "# Accuracy for Decision Tree using Random Search CV for Hyperparameter Tuning\n",
        "\n",
        "print(\"Test Accuracy:\", metrics.accuracy_score(Ytest,dtRand_predict))\n",
        "print(\"Confusion Matrix for Decision Tree:\")\n",
        "print(confusion_matrix(Ytest,dtRand_predict))\n",
        "print('Printing the precision and recall, among other metrics')\n",
        "print(metrics.classification_report(Ytest, dtRand_predict))\n",
        "clf_cv_score = cross_val_score(dtRand, Xtrain, Ytrain, cv=5, scoring=\"balanced_accuracy\")\n",
        "print(clf_cv_score)"
      ],
      "execution_count": null,
      "outputs": [
        {
          "output_type": "stream",
          "name": "stdout",
          "text": [
            "Test Accuracy: 0.907493420034061\n",
            "Confusion Matrix for Decision Tree:\n",
            "[[11578   842]\n",
            " [  353   145]]\n",
            "Printing the precision and recall, among other metrics\n",
            "              precision    recall  f1-score   support\n",
            "\n",
            "          No       0.97      0.93      0.95     12420\n",
            "         Yes       0.15      0.29      0.20       498\n",
            "\n",
            "    accuracy                           0.91     12918\n",
            "   macro avg       0.56      0.61      0.57     12918\n",
            "weighted avg       0.94      0.91      0.92     12918\n",
            "\n",
            "[0.74615385 0.73990385 0.54375    0.5        0.55696203]\n"
          ]
        }
      ]
    },
    {
      "cell_type": "code",
      "metadata": {
        "id": "MoZ-aq5Kp0SL",
        "colab": {
          "base_uri": "https://localhost:8080/"
        },
        "outputId": "4b09414b-e523-4050-e93d-00dcc09fd7a9"
      },
      "source": [
        "# Accuracy for Decision Tree using Grid Search for Hyperparameter Tuning\n",
        "\n",
        "print(\"Test Accuracy:\", metrics.accuracy_score(Ytest,dtGrid_predict))\n",
        "print(\"Confusion Matrix for Decision Tree:\")\n",
        "print(confusion_matrix(Ytest,dtGrid_predict))\n",
        "print('Printing the precision and recall, among other metrics')\n",
        "print(metrics.classification_report(Ytest, dtGrid_predict))\n",
        "clf_cv_score = cross_val_score(dtGrid, Xtrain, Ytrain, cv=5, scoring=\"balanced_accuracy\")\n",
        "print(clf_cv_score)"
      ],
      "execution_count": null,
      "outputs": [
        {
          "output_type": "stream",
          "name": "stdout",
          "text": [
            "Test Accuracy: 0.8974299427155906\n",
            "Confusion Matrix for Decision Tree:\n",
            "[[11427   993]\n",
            " [  332   166]]\n",
            "Printing the precision and recall, among other metrics\n",
            "              precision    recall  f1-score   support\n",
            "\n",
            "          No       0.97      0.92      0.95     12420\n",
            "         Yes       0.14      0.33      0.20       498\n",
            "\n",
            "    accuracy                           0.90     12918\n",
            "   macro avg       0.56      0.63      0.57     12918\n",
            "weighted avg       0.94      0.90      0.92     12918\n",
            "\n",
            "[0.74615385 0.69807692 0.54182692 0.5        0.56962025]\n"
          ]
        }
      ]
    },
    {
      "cell_type": "code",
      "metadata": {
        "id": "6GbRCgePp0bk"
      },
      "source": [],
      "execution_count": null,
      "outputs": []
    },
    {
      "cell_type": "markdown",
      "metadata": {
        "id": "EuvBD_hQp4Y4"
      },
      "source": [
        "Random Forest: Random & Grid Search"
      ]
    },
    {
      "cell_type": "code",
      "metadata": {
        "id": "rk4SasKCp0kt",
        "colab": {
          "base_uri": "https://localhost:8080/"
        },
        "outputId": "638a4bd4-9b5a-4610-c414-7df045561887"
      },
      "source": [
        "#Hyperparameter tuning done for random forest classifier\n",
        "\n",
        "#RANDOM SEARCH\n",
        "\n",
        "import time\n",
        "start_time = time.time()\n",
        "\n",
        "print(\"RandomizedSearchCV-Random forest\")\n",
        "rand_parameters={'min_samples_leaf' : range(10,100,10),'max_depth': \n",
        "            range(1,10,2),'max_features':[10,20,30],'n_estimators':[20,30,40]}\n",
        "rf_random = RandomizedSearchCV(rf,rand_parameters,n_iter=25,cv=5)\n",
        "rf_random.fit(Xtrain, Ytrain)\n",
        "grid_parm=rf_random.best_params_\n",
        "print(grid_parm)\n",
        "print(\"accuracy Score for Decision Tree:{0:6f}\".\n",
        "      format(rf_random.score(Xtest,Ytest)))\n",
        "\n",
        "print(\"--- %s seconds ---\" % (time.time() - start_time))"
      ],
      "execution_count": null,
      "outputs": [
        {
          "output_type": "stream",
          "name": "stdout",
          "text": [
            "RandomizedSearchCV-Random forest\n",
            "{'n_estimators': 30, 'min_samples_leaf': 20, 'max_features': 30, 'max_depth': 9}\n",
            "accuracy Score for Decision Tree:0.930330\n",
            "--- 11.319271087646484 seconds ---\n"
          ]
        }
      ]
    },
    {
      "cell_type": "code",
      "metadata": {
        "id": "3KuuL8qBp0nH",
        "colab": {
          "base_uri": "https://localhost:8080/"
        },
        "outputId": "6710e21c-3fed-466f-cfa0-2068c353aa6d"
      },
      "source": [
        "import time\n",
        "start_time = time.time()\n",
        "\n",
        "print(\"GridSearchCV-Random Forest\")\n",
        "rf_grid = GridSearchCV(rf,rand_parameters)\n",
        "rf_grid.fit(Xtrain, Ytrain)\n",
        "grid_parm1=rf_grid.best_params_\n",
        "print(grid_parm1)\n",
        "print(\"accuracy Score for Random Forest :{0:6f}\".\n",
        "      format(rf_grid.score(Xtest,Ytest)))\n",
        "\n",
        "print(\"--- %s seconds ---\" % (time.time() - start_time))"
      ],
      "execution_count": null,
      "outputs": [
        {
          "output_type": "stream",
          "name": "stdout",
          "text": [
            "GridSearchCV-Random Forest\n",
            "{'max_depth': 5, 'max_features': 30, 'min_samples_leaf': 10, 'n_estimators': 40}\n",
            "accuracy Score for Random Forest :0.928472\n",
            "--- 183.97418022155762 seconds ---\n"
          ]
        }
      ]
    },
    {
      "cell_type": "code",
      "metadata": {
        "id": "k9BNDnGnp0qq"
      },
      "source": [
        "#Using the parameters obtained from HyperParameterTuning in the RandomForestClassifier \n",
        "rfRand = RandomForestClassifier(**grid_parm)\n",
        "rfGrid = RandomForestClassifier(**grid_parm1)\n",
        "\n",
        "rfRand.fit(Xtrain,Ytrain)\n",
        "rfRand_predict = rfRand.predict(Xtest)\n",
        "rfGrid.fit(Xtrain,Ytrain)\n",
        "rfGrid_predict = rfGrid.predict(Xtest)"
      ],
      "execution_count": null,
      "outputs": []
    },
    {
      "cell_type": "code",
      "metadata": {
        "id": "6c_c4gbJp0tF",
        "colab": {
          "base_uri": "https://localhost:8080/"
        },
        "outputId": "5a692be4-8800-43f3-f8e7-68c771c8e5f8"
      },
      "source": [
        "# Accuracy for Random Forest using Random Search CV for Hyperparameter Tuning\n",
        "\n",
        "print(\"Test Accuracy:\", metrics.accuracy_score(Ytest,rfRand_predict))\n",
        "print(\"Confusion Matrix for Decision Tree:\")\n",
        "print(confusion_matrix(Ytest,rfRand_predict))\n",
        "print('Printing the precision and recall, among other metrics')\n",
        "print(metrics.classification_report(Ytest, rfRand_predict))\n",
        "clf_cv_score = cross_val_score(rfRand, Xtrain, Ytrain, cv=5, scoring=\"balanced_accuracy\")\n",
        "print(clf_cv_score)"
      ],
      "execution_count": null,
      "outputs": [
        {
          "output_type": "stream",
          "name": "stdout",
          "text": [
            "Test Accuracy: 0.9268462610311193\n",
            "Confusion Matrix for Decision Tree:\n",
            "[[11853   567]\n",
            " [  378   120]]\n",
            "Printing the precision and recall, among other metrics\n",
            "              precision    recall  f1-score   support\n",
            "\n",
            "          No       0.97      0.95      0.96     12420\n",
            "         Yes       0.17      0.24      0.20       498\n",
            "\n",
            "    accuracy                           0.93     12918\n",
            "   macro avg       0.57      0.60      0.58     12918\n",
            "weighted avg       0.94      0.93      0.93     12918\n",
            "\n",
            "[0.75240385 0.71730769 0.54375    0.5        0.55696203]\n"
          ]
        }
      ]
    },
    {
      "cell_type": "code",
      "metadata": {
        "id": "21bWJZzmp0xg",
        "colab": {
          "base_uri": "https://localhost:8080/"
        },
        "outputId": "278a5d92-c898-4356-8ab2-ec73022d5573"
      },
      "source": [
        "# Accuracy for Random Forest using Grid Search for Hyperparameter Tuning\n",
        "\n",
        "print(\"Test Accuracy:\", metrics.accuracy_score(Ytest,rfGrid_predict))\n",
        "print(\"Confusion Matrix for Decision Tree:\")\n",
        "print(confusion_matrix(Ytest,rfGrid_predict))\n",
        "print('Printing the precision and recall, among other metrics')\n",
        "print(metrics.classification_report(Ytest, rfGrid_predict))"
      ],
      "execution_count": null,
      "outputs": [
        {
          "output_type": "stream",
          "name": "stdout",
          "text": [
            "Test Accuracy: 0.927078495123084\n",
            "Confusion Matrix for Decision Tree:\n",
            "[[11857   563]\n",
            " [  379   119]]\n",
            "Printing the precision and recall, among other metrics\n",
            "              precision    recall  f1-score   support\n",
            "\n",
            "          No       0.97      0.95      0.96     12420\n",
            "         Yes       0.17      0.24      0.20       498\n",
            "\n",
            "    accuracy                           0.93     12918\n",
            "   macro avg       0.57      0.60      0.58     12918\n",
            "weighted avg       0.94      0.93      0.93     12918\n",
            "\n"
          ]
        }
      ]
    }
  ]
}